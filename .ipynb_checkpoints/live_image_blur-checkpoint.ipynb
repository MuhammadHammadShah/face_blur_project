{
 "cells": [
  {
   "cell_type": "code",
   "execution_count": 1,
   "id": "63c85e2c",
   "metadata": {},
   "outputs": [
    {
     "ename": "IndexError",
     "evalue": "tuple index out of range",
     "output_type": "error",
     "traceback": [
      "\u001b[1;31m---------------------------------------------------------------------------\u001b[0m",
      "\u001b[1;31mIndexError\u001b[0m                                Traceback (most recent call last)",
      "Cell \u001b[1;32mIn[1], line 9\u001b[0m\n\u001b[0;32m      7\u001b[0m \u001b[38;5;66;03m#cv2.imshow(\"real image\",img)z\u001b[39;00m\n\u001b[0;32m      8\u001b[0m face  \u001b[38;5;241m=\u001b[39m model\u001b[38;5;241m.\u001b[39mdetectMultiScale(img)\n\u001b[1;32m----> 9\u001b[0m x1 \u001b[38;5;241m=\u001b[39m face[\u001b[38;5;241m0\u001b[39m][\u001b[38;5;241m0\u001b[39m]\n\u001b[0;32m     10\u001b[0m y1 \u001b[38;5;241m=\u001b[39m face[\u001b[38;5;241m0\u001b[39m][\u001b[38;5;241m1\u001b[39m]\n\u001b[0;32m     11\u001b[0m x2 \u001b[38;5;241m=\u001b[39m face[\u001b[38;5;241m0\u001b[39m][\u001b[38;5;241m2\u001b[39m] \u001b[38;5;241m+\u001b[39m x1\n",
      "\u001b[1;31mIndexError\u001b[0m: tuple index out of range"
     ]
    }
   ],
   "source": [
    "import cv2\n",
    "cap = cv2.VideoCapture(0)\n",
    "model = cv2.CascadeClassifier('haarcascade_frontalface_default.xml')\n",
    "\n",
    "while True:\n",
    "    ret, img = cap.read()\n",
    "    #cv2.imshow(\"real image\",img)z\n",
    "    face  = model.detectMultiScale(img)\n",
    "    x1 = face[0][0]\n",
    "    y1 = face[0][1]\n",
    "    x2 = face[0][2] + x1\n",
    "    y2 = face[0][3] + y1 \n",
    "    cimg = img[y1:y2 , x1:x2]\n",
    "    blur_img = cv2.blur(cimg, (50,50))\n",
    "    img[y1:y2 , x1:x2] = blur_img\n",
    "    cv2.imshow(\"blured image\",img)\n",
    "    if cv2.waitKey(100) == 13:\n",
    "        break\n",
    "\n",
    "cv2.destroyAllWindows()"
   ]
  },
  {
   "cell_type": "markdown",
   "id": "603a6ec6",
   "metadata": {},
   "source": [
    "# BLUR THE FACE"
   ]
  },
  {
   "cell_type": "code",
   "execution_count": 1,
   "id": "00c68032",
   "metadata": {},
   "outputs": [],
   "source": [
    "import cv2\n",
    "\n",
    "# Load face detection model\n",
    "model = cv2.CascadeClassifier('haarcascade_frontalface_default.xml')\n",
    "\n",
    "# Initialize video capture\n",
    "cap = cv2.VideoCapture(0)\n",
    "\n",
    "while True:\n",
    "    # Read frame from camera\n",
    "    ret, img = cap.read()\n",
    "    \n",
    "    # Detect faces\n",
    "    faces = model.detectMultiScale(img, scaleFactor=1.1, minNeighbors=5)\n",
    "    \n",
    "    # Blur each detected face\n",
    "    for (x, y, w, h) in faces:\n",
    "        cimg = img[y:y+h, x:x+w]\n",
    "        blur_img = cv2.blur(cimg, (50, 50))\n",
    "        img[y:y+h, x:x+w] = blur_img\n",
    "    \n",
    "    # Display the blurred image\n",
    "    cv2.imshow(\"Blurred Image\", img)\n",
    "    \n",
    "    # Break the loop if 'Enter' key is pressed\n",
    "    if cv2.waitKey(1) == 13:\n",
    "        break\n",
    "\n",
    "# Release video capture and close all windows\n",
    "cap.release()\n",
    "cv2.destroyAllWindows()\n"
   ]
  },
  {
   "cell_type": "markdown",
   "id": "7a3fe12e",
   "metadata": {},
   "source": [
    "# BLUR THE BACKGROUND"
   ]
  },
  {
   "cell_type": "code",
   "execution_count": 3,
   "id": "d2ee1c63",
   "metadata": {},
   "outputs": [],
   "source": [
    "import cv2\n",
    "\n",
    "# Load face detection model\n",
    "model = cv2.CascadeClassifier('haarcascade_frontalface_default.xml')\n",
    "\n",
    "# Initialize video capture\n",
    "cap = cv2.VideoCapture(0)\n",
    "\n",
    "while True:\n",
    "    # Read frame from camera\n",
    "    ret, img = cap.read()\n",
    "\n",
    "    # Detect faces\n",
    "    faces = model.detectMultiScale(img, scaleFactor=1.1, minNeighbors=5)\n",
    "\n",
    "    # Optimized mask creation and blurring:\n",
    "    mask = np.zeros_like(img)  # Create a black mask directly\n",
    "    for (x, y, w, h) in faces:\n",
    "        cv2.rectangle(mask, (x, y), (x+w, y+h), 255, -1)  # Draw white rectangles on mask\n",
    "    blurred_bg = cv2.GaussianBlur(img, (21, 21), 0)\n",
    "    img[mask == 0] = blurred_bg[mask == 0]  # Apply blur where mask is black\n",
    "\n",
    "    # Remove unnecessary rectangle drawing:\n",
    "    # (Face rectangles are already defined by the mask)\n",
    "\n",
    "    # Display the image with blurred background\n",
    "    cv2.imshow(\"Blurred Image\", img)\n",
    "\n",
    "    # Break the loop if 'Enter' key is pressed\n",
    "    if cv2.waitKey(1) == 13:\n",
    "        break\n",
    "\n",
    "# Release video capture and close all windows\n",
    "cap.release()\n",
    "cv2.destroyAllWindows()\n"
   ]
  },
  {
   "cell_type": "code",
   "execution_count": null,
   "id": "d2ab9583",
   "metadata": {},
   "outputs": [],
   "source": []
  }
 ],
 "metadata": {
  "kernelspec": {
   "display_name": "Python 3 (ipykernel)",
   "language": "python",
   "name": "python3"
  },
  "language_info": {
   "codemirror_mode": {
    "name": "ipython",
    "version": 3
   },
   "file_extension": ".py",
   "mimetype": "text/x-python",
   "name": "python",
   "nbconvert_exporter": "python",
   "pygments_lexer": "ipython3",
   "version": "3.11.4"
  }
 },
 "nbformat": 4,
 "nbformat_minor": 5
}
